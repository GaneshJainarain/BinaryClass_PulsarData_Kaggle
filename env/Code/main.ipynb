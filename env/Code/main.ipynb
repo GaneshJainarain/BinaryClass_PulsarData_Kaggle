{
 "cells": [
  {
   "cell_type": "markdown",
   "metadata": {},
   "source": [
    "## Playground Series - Season 3, Episode 10\n",
    "### `Binary Classification with a Pulsar Dataset`\n",
    "\n",
    "The dataset for this competition (both train and test) was generated from a deep learning model trained on the Pulsar Classification. \n",
    "Objective is to predict the probability of Class\n",
    "(whether the observation is a pulsar)"
   ]
  },
  {
   "cell_type": "markdown",
   "metadata": {},
   "source": [
    "#### `Files`\n",
    "\n",
    "- train.csv - the training dataset; Class is the (binary) target\n",
    "- test.csv - the test dataset;\n",
    "- sample_submission.csv - a sample submission file in the correct format\n",
    "\n"
   ]
  },
  {
   "cell_type": "markdown",
   "metadata": {},
   "source": [
    "### `Data Science Framework & Process`\n",
    "\n",
    "- Define the Problem\n",
    "- Gather the Data\n",
    "- Prepare Data for Consumption\n",
    "- Perform Exploratory Analysis\n",
    "- Model Data\n",
    "- Validate and Implement Data Model\n",
    "- Optimize and Strategize\n"
   ]
  },
  {
   "cell_type": "markdown",
   "metadata": {},
   "source": [
    "### `Defining Our Problem`\n",
    "\n",
    "`Predict the probability of the variable Class`\n",
    "\n",
    "Pulsars are rapidly spinning neutron stars, extremely dense stars composed almost entirely of neutrons and having a diameter of only 20 km (12 miles) or less. Pulsar masses range between 1.18 and 1.97 times that of the Sun, but most pulsars have a mass 1.35 times that of the Sun.\n",
    "\n",
    "Pulsars are a rare type of Neutron star that produce radio emission detectable here on Earth. They are of considerable scientific interest as probes of space-time, the inter-stellar medium, and states of matter . Neutron stars are very dense, and have short, regular rotational periods. This produces a very precise interval between pulses that ranges from milliseconds to seconds for an individual pulsar. Pulsars are believed to be one of the candidates for the source of ultra-high-energy cosmic rays."
   ]
  },
  {
   "cell_type": "markdown",
   "metadata": {},
   "source": [
    "### `Gather the Data`\n",
    "\n",
    "The data is given to us via Kaggle, Download at:\n",
    "(Kaggle Pulsar Dataset)[https://www.kaggle.com/competitions/playground-series-s3e10/data]\n"
   ]
  },
  {
   "cell_type": "markdown",
   "metadata": {},
   "source": [
    "### `Prepare Data for Consumption`\n",
    "\n",
    "#### `Import Libraries`"
   ]
  },
  {
   "cell_type": "code",
   "execution_count": 1,
   "metadata": {},
   "outputs": [
    {
     "name": "stdout",
     "output_type": "stream",
     "text": [
      "Python version: 3.8.3 (v3.8.3:6f8c8320e9, May 13 2020, 16:29:34) \n",
      "[Clang 6.0 (clang-600.0.57)]\n",
      "pandas version: 1.5.3\n",
      "matplotlib version: 3.7.1\n",
      "NumPy version: 1.24.2\n",
      "SciPy version: 1.10.1\n",
      "IPython version: 8.11.0\n",
      "scikit-learn version: 1.2.1\n",
      "-------------------------\n"
     ]
    }
   ],
   "source": [
    "\n",
    "#load packages\n",
    "import sys #access to system parameters https://docs.python.org/3/library/sys.html\n",
    "print(\"Python version: {}\". format(sys.version))\n",
    "\n",
    "import pandas as pd #collection of functions for data processing and analysis modeled after R dataframes with SQL like features\n",
    "print(\"pandas version: {}\". format(pd.__version__))\n",
    "\n",
    "import matplotlib #collection of functions for scientific and publication-ready visualization\n",
    "print(\"matplotlib version: {}\". format(matplotlib.__version__))\n",
    "\n",
    "import numpy as np #foundational package for scientific computing\n",
    "print(\"NumPy version: {}\". format(np.__version__))\n",
    "\n",
    "import scipy as sp #collection of functions for scientific computing and advance mathematics\n",
    "print(\"SciPy version: {}\". format(sp.__version__)) \n",
    "\n",
    "import IPython\n",
    "from IPython import display #pretty printing of dataframes in Jupyter notebook\n",
    "print(\"IPython version: {}\". format(IPython.__version__)) \n",
    "\n",
    "import sklearn #collection of machine learning algorithms\n",
    "print(\"scikit-learn version: {}\". format(sklearn.__version__))\n",
    "\n",
    "#misc libraries\n",
    "import random\n",
    "import time\n",
    "\n",
    "#ignore warnings\n",
    "import warnings\n",
    "warnings.filterwarnings('ignore')\n",
    "print('-'*25)\n"
   ]
  },
  {
   "cell_type": "markdown",
   "metadata": {},
   "source": [
    "#### `Load Data Modelling Libraries`\n",
    "We will use the popular scikit-learn library to develop our `machine learning algorithms`. In sklearn, algorithms are called Estimators and implemented in their own classes. For `data visualization`, we will use the matplotlib and seaborn library. Below are common classes to load."
   ]
  },
  {
   "cell_type": "code",
   "execution_count": 5,
   "metadata": {},
   "outputs": [],
   "source": [
    "\n",
    "#Common Model Algorithms\n",
    "from sklearn import svm, tree, linear_model, neighbors, naive_bayes, ensemble, discriminant_analysis, gaussian_process\n",
    "from xgboost import XGBClassifier\n",
    "\n",
    "#Common Model Helpers\n",
    "from sklearn.preprocessing import OneHotEncoder, LabelEncoder\n",
    "from sklearn import feature_selection\n",
    "from sklearn import model_selection\n",
    "from sklearn import metrics\n",
    "\n",
    "#Visualization\n",
    "import matplotlib as mpl\n",
    "import matplotlib.pyplot as plt\n",
    "import matplotlib.pylab as pylab\n",
    "import seaborn as sns\n",
    "from pandas.plotting import scatter_matrix\n",
    "\n",
    "#Configure Visualization Defaults\n",
    "#%matplotlib inline = show plots in Jupyter Notebook browser\n",
    "%matplotlib inline\n",
    "mpl.style.use('ggplot')\n",
    "sns.set_style('white')\n",
    "pylab.rcParams['figure.figsize'] = 12,8"
   ]
  },
  {
   "cell_type": "markdown",
   "metadata": {},
   "source": [
    "#### `Our Data`\n",
    "\n",
    "\n",
    "`17898 entries`\n",
    "\n",
    "Data can be useful for prediction models of classification.\n",
    "\n",
    "`COLUMNS:`\n",
    "Based on Integrated Profile of Observation\n",
    "\n",
    "- `Mean_Integrated`: Mean of Observations\n",
    "\n",
    "- `SD`: Standard deviation of Observations\n",
    "\n",
    "- `EK`: Excess kurtosis of Observations\n",
    "\n",
    "- `Skewness`: In probability theory and statistics, skewness is a measure of the asymmetry of the probability distribution of a real-valued random variable about its mean. Skewness of Observations.\n",
    "\n",
    "- `Mean _ DMSNR _ Curve`: Mean of DM SNR CURVE of Observations\n",
    "\n",
    "- `SD _ DMSNR _ Curve`: Standard deviation of DM SNR CURVE of Observations\n",
    "\n",
    "- `EK _ DMSNR _ Curve`: Excess kurtosis of DM SNR CURVE of Observations\n",
    "\n",
    "- `Skewness _ DMSNR _ Curve`: Skewness of DM SNR CURVE of Observations\n",
    "\n",
    "- `Class`: Class 0 - 1\n",
    "\n",
    "`WHAT IS DM SNR CURVE:`\n",
    "\n",
    "Radio waves emitted from pulsars reach earth after traveling long distances in space which is filled with free electrons. \n",
    "The important point is that pulsars emit a wide range of frequencies, and the amount by which the electrons slow down the wave depends on the frequency. \n",
    "Waves with higher frequency are sowed down less as compared to waves with higher frequency. It means dispersion.\n",
    "\n",
    "`TARGET:`\n",
    "\n",
    "`Class`\n",
    "   - 0 -- It is not\n",
    "   - 1 -- It is\n",
    "\n"
   ]
  }
 ],
 "metadata": {
  "kernelspec": {
   "display_name": "Python 3.8.3 ('env': venv)",
   "language": "python",
   "name": "python3"
  },
  "language_info": {
   "codemirror_mode": {
    "name": "ipython",
    "version": 3
   },
   "file_extension": ".py",
   "mimetype": "text/x-python",
   "name": "python",
   "nbconvert_exporter": "python",
   "pygments_lexer": "ipython3",
   "version": "3.8.3"
  },
  "orig_nbformat": 4,
  "vscode": {
   "interpreter": {
    "hash": "e8f28ed50434129ac93f93d7e8fd1c29db31c6d5452ac362f3c95aa434902534"
   }
  }
 },
 "nbformat": 4,
 "nbformat_minor": 2
}
