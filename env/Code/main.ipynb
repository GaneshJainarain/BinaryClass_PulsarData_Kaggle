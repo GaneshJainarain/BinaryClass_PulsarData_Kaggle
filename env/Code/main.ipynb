{
 "cells": [
  {
   "cell_type": "markdown",
   "metadata": {},
   "source": [
    "## Playground Series - Season 3, Episode 10\n",
    "### `Binary Classification with a Pulsar Dataset`\n",
    "\n",
    "The dataset for this competition (both train and test) was generated from a deep learning model trained on the Pulsar Classification. "
   ]
  },
  {
   "cell_type": "markdown",
   "metadata": {},
   "source": [
    "#### `Files`\n",
    "\n",
    "- train.csv - the training dataset; Class is the (binary) target\n",
    "- test.csv - the test dataset; your objective is to predict the probability of Class\n",
    "(whether the observation is a pulsar)\n",
    "- sample_submission.csv - a sample submission file in the correct format\n"
   ]
  },
  {
   "cell_type": "markdown",
   "metadata": {},
   "source": [
    "### `Data Science Framework & Process`\n",
    "\n",
    "- Define the Problem\n",
    "- Gather the Data\n",
    "- Prepare Data for Consumption\n",
    "- Perform Exploratory Analysis\n",
    "- Model Data\n",
    "- Validate and Implement Data Model\n",
    "- Optimize and Strategize\n"
   ]
  },
  {
   "cell_type": "markdown",
   "metadata": {},
   "source": [
    "### `Defining Our Problem`\n",
    "\n",
    "`Predict the probability of the variable Class`\n",
    "\n",
    "Pulsars are rapidly spinning neutron stars, extremely dense stars composed almost entirely of neutrons and having a diameter of only 20 km (12 miles) or less. Pulsar masses range between 1.18 and 1.97 times that of the Sun, but most pulsars have a mass 1.35 times that of the Sun.\n",
    "\n",
    "Pulsars are a rare type of Neutron star that produce radio emission detectable here on Earth. They are of considerable scientific interest as probes of space-time, the inter-stellar medium, and states of matter . Neutron stars are very dense, and have short, regular rotational periods. This produces a very precise interval between pulses that ranges from milliseconds to seconds for an individual pulsar. Pulsars are believed to be one of the candidates for the source of ultra-high-energy cosmic rays."
   ]
  },
  {
   "cell_type": "code",
   "execution_count": null,
   "metadata": {},
   "outputs": [],
   "source": []
  }
 ],
 "metadata": {
  "language_info": {
   "name": "python"
  },
  "orig_nbformat": 4
 },
 "nbformat": 4,
 "nbformat_minor": 2
}
